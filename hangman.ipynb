{
 "cells": [
  {
   "cell_type": "markdown",
   "metadata": {},
   "source": [
    "# Hangman notes\n",
    "Your hangman homework has a number of different ways it can be completed. If you are having trouble completing it, you can use this notebook to guide you to a solution.\n",
    "\n",
    "## Describe the Algorithm\n",
    "Usually when we start writing a program we decide how we want the program to work. This is called the algorithm underlying the program.\n",
    "\n",
    "For hangman it might be something like this.\n",
    "\n",
    "1. Ask if they want to play a game, if not then return\n",
    "2. Generate a random word (w)\n",
    "   Also initialize the counter variable which keeps track of their remaining guesses\n",
    "   and initialize a variable to keep track of the letters they've guessed already.\n",
    "3. Ask the user for a letter and add it to the list of guessed letters\n",
    "4. If the letter has already been guessed or is not in the word, add one to the counter\n",
    "   and print a message saying they didn't guess a new letter\n",
    "5. Otherwise, congratulate them and print the letters in the word, but only showing the\n",
    "   letters they have guessed.\n",
    "6. If they have guessed all the letters or they have used up all of their guesses end the game\n",
    "7. Otherwise continue the game\n",
    "\n",
    "# Pseudocode\n",
    "The next step is to write the code as a combination of Python and English where the Python\n",
    "captures the \"top-level\" parts of the algorithm.\n",
    "\n",
    "Making this more Python-like we can rewrite it as:\n",
    "```python\n",
    "def play_hangman():\n",
    "    want_to_play = True\n",
    "\n",
    "\n",
    "    while (want_to_play):\n",
    "        guessed_letters = []\n",
    "        guesses_left = 6\n",
    "        word = \"generate a random word\"\n",
    "        letter = \"ask the user for a letter\"\n",
    "        done = False\n",
    "        while not done:\n",
    "            if letter in guessed_letters:\n",
    "                \"subtract one from guesses_left\"\n",
    "                \"and tell them they already guessed that letter\"\n",
    "            elif letter not in word:\n",
    "                \"add letter to guessed letters\"\n",
    "                \"tell user the letter is not in the word\"\n",
    "                \"subtract one from the guesses_left\"\n",
    "            else:\n",
    "                \"add letter to guessed letters\"\n",
    "                \"tell user the letter is in the word\"\n",
    "            if \"all the letters in the word have been guessed\":\n",
    "                \"set done to be true and tell the user they won!\"\n",
    "            elif \"the number of guesses left is zero\":\n",
    "                \"set done to be true and tell the user they lost!\"\n",
    "            else:\n",
    "                \"print the word with a dash for each letter not in guessed_letters\"\n",
    "                letter = \"ask the user for another letter\"\n",
    "        want_to_play = \"ask the user if they want to play another game...\"\n",
    "    \n",
    "```   \n",
    "Some of the pseudo code can be converted directly into python code\n",
    "Other pseudo code should be turned into functions, e.g.\n"
   ]
  },
  {
   "cell_type": "markdown",
   "metadata": {},
   "source": [
    "## Testing\n",
    "Try to trace this program to see if the logic is correct\n",
    "Play a few games and see if we have forgotten anything..."
   ]
  },
  {
   "cell_type": "markdown",
   "metadata": {},
   "source": [
    "## Topdown development\n",
    "Now that we have a highlevel view of the program and have tested it, lets start writing the lowerlevel code.\n",
    "\n",
    "\"generate a random word\" could be a function call \n",
    "```python\n",
    "  word = generate_random_word()\n",
    "```\n",
    "and then you'll need to define the generate_random_word function. The easiest approach is to\n",
    "import the random module and use the random.choice(list) function which returns a random element\n",
    "from the list. Write the code for the generate_random_word function where you just write a list of words, e.g. \n",
    "``` python\n",
    "words = \"dog cat mouse deer snake\".split()\n",
    "```\n",
    "Try writing the generate_random_word function and testing it...\n",
    "Even better is to download a list of English words, read them (as we did for Romeo and Juliet),\n",
    "and then use the random.choice function of the random module to pick a random word from that list."
   ]
  },
  {
   "cell_type": "code",
   "execution_count": 8,
   "metadata": {},
   "outputs": [
    {
     "name": "stdout",
     "output_type": "stream",
     "text": [
      "dog\n"
     ]
    }
   ],
   "source": [
    "import random\n",
    "\n",
    "words = \"dog cat mouse deer snake\".split()\n",
    "\n",
    "def generate_random_word():\n",
    "    return lower(random.choice(words))\n",
    "\n",
    "print(generate_random_word())"
   ]
  },
  {
   "cell_type": "markdown",
   "metadata": {},
   "source": [
    "\"print the word with a dash for each letter not in guessed_letters\"\n",
    "\n",
    "should also be a function, \n",
    "```python\n",
    "print_word(word,guessed_letter)\n",
    "```\n",
    "which prints each letter of the word but prints a dash if the letter has not been guessed.\n",
    "Try writing that function here and testing it."
   ]
  },
  {
   "cell_type": "code",
   "execution_count": 17,
   "metadata": {},
   "outputs": [
    {
     "name": "stdout",
     "output_type": "stream",
     "text": [
      "['g', 'o', 'o', '-']\n"
     ]
    }
   ],
   "source": [
    "def print_word(word,guessed_letter):\n",
    "    newword = \"\"\n",
    "    for char in word:\n",
    "        if char in guessed_letter:\n",
    "            newword += char\n",
    "        else:\n",
    "            newword += \"-\"\n",
    "    print(list(newword))\n",
    "\n",
    "print_word(\"good\", [\"o\", \"g\"])\n"
   ]
  },
  {
   "cell_type": "markdown",
   "metadata": {},
   "source": [
    "Putting it all together\n",
    "Now try to write the entire play_hangman game with all these pieces.\n"
   ]
  },
  {
   "cell_type": "code",
   "execution_count": null,
   "metadata": {},
   "outputs": [
    {
     "name": "stdin",
     "output_type": "stream",
     "text": [
      "pick a letter:  d\n"
     ]
    },
    {
     "name": "stdout",
     "output_type": "stream",
     "text": [
      "d is picked.\n",
      "d is in the word!\n",
      "6 choices left\n",
      "['d', '-', '-', '-']\n"
     ]
    },
    {
     "name": "stdin",
     "output_type": "stream",
     "text": [
      "pick a letter:  e\n"
     ]
    },
    {
     "name": "stdout",
     "output_type": "stream",
     "text": [
      "e is picked.\n",
      "e is in the word!\n",
      "6 choices left\n",
      "['d', 'e', 'e', '-']\n"
     ]
    },
    {
     "name": "stdin",
     "output_type": "stream",
     "text": [
      "pick a letter:  r\n"
     ]
    },
    {
     "name": "stdout",
     "output_type": "stream",
     "text": [
      "r is picked.\n",
      "r is in the word!\n",
      "6 choices left\n",
      "you won!\n"
     ]
    },
    {
     "name": "stdin",
     "output_type": "stream",
     "text": [
      "play again? (y or n): y\n",
      "pick a letter:  1\n"
     ]
    },
    {
     "name": "stdout",
     "output_type": "stream",
     "text": [
      "1 is picked.\n",
      "1 is NOT in the word!\n",
      "5 choices left\n",
      "['-', '-', '-']\n"
     ]
    },
    {
     "name": "stdin",
     "output_type": "stream",
     "text": [
      "pick a letter:  2\n"
     ]
    },
    {
     "name": "stdout",
     "output_type": "stream",
     "text": [
      "2 is picked.\n",
      "2 is NOT in the word!\n",
      "4 choices left\n",
      "['-', '-', '-']\n"
     ]
    },
    {
     "name": "stdin",
     "output_type": "stream",
     "text": [
      "pick a letter:  3\n"
     ]
    },
    {
     "name": "stdout",
     "output_type": "stream",
     "text": [
      "3 is picked.\n",
      "3 is NOT in the word!\n",
      "3 choices left\n",
      "['-', '-', '-']\n"
     ]
    },
    {
     "name": "stdin",
     "output_type": "stream",
     "text": [
      "pick a letter:  4\n"
     ]
    },
    {
     "name": "stdout",
     "output_type": "stream",
     "text": [
      "4 is picked.\n",
      "4 is NOT in the word!\n",
      "2 choices left\n",
      "['-', '-', '-']\n"
     ]
    },
    {
     "name": "stdin",
     "output_type": "stream",
     "text": [
      "pick a letter:  5\n"
     ]
    },
    {
     "name": "stdout",
     "output_type": "stream",
     "text": [
      "5 is picked.\n",
      "5 is NOT in the word!\n",
      "1 choices left\n",
      "['-', '-', '-']\n"
     ]
    },
    {
     "name": "stdin",
     "output_type": "stream",
     "text": [
      "pick a letter:  6\n"
     ]
    },
    {
     "name": "stdout",
     "output_type": "stream",
     "text": [
      "6 is picked.\n",
      "6 is NOT in the word!\n",
      "0 choices left\n",
      "you lost!\n"
     ]
    }
   ],
   "source": [
    "def pick_a_letter():\n",
    "    input_letters = input(\"pick a letter: \")\n",
    "    while (len(input_letters) < 1):\n",
    "        input_letters = input(\"pick a letter:: \")\n",
    "    letter = input_letters[:1].lower()\n",
    "    print(letter, \"is picked.\")\n",
    "    return letter\n",
    "\n",
    "def print_guesses_left(guesses_left):\n",
    "    print(guesses_left, \"choices left\")\n",
    "    \n",
    "def all_letter_guessed(word, guessed_letter):\n",
    "    for char in word:\n",
    "        if char not in guessed_letter:\n",
    "            return False\n",
    "    return True;\n",
    "\n",
    "def want_to_play():\n",
    "    i = input(\"play again? (y or n):\")\n",
    "    return i == \"y\" or i == \"Y\"\n",
    "\n",
    "def play_hangman():\n",
    "    want_to_play = True\n",
    "\n",
    "    while (want_to_play):\n",
    "        word = generate_random_word()\n",
    "        guessed_letters = []\n",
    "        guesses_left = 6\n",
    "        letter = pick_a_letter()\n",
    "        done = False\n",
    "        print("Welcome to the game of Hangman")
    "        print("The Rules are Simple, try and solve the puzzle within 6 guesses")
    "        print("If you dont get it all right, you will lose!")
    "        while not done:\n",
    "            if letter in guessed_letters:\n",
    "                print(letter, \"has picked!\")\n",
    "                guesses_left = guesses_left - 1\n",
    "            elif letter not in word:\n",
    "                guessed_letters.append(letter)\n",
    "                print(letter, \"is NOT in the word!\")\n",
    "                guesses_left = guesses_left - 1\n",
    "            else:\n",
    "                guessed_letters.append(letter)\n",
    "                print(letter, \"is in the word!\")\n",
    "            print_guesses_left(guesses_left)\n",
    "            if all_letter_guessed(word, guessed_letters):\n",
    "                print(\"you won!\")\n",
    "                done = True\n",
    "            elif guesses_left == 0:\n",
    "                print(\"you lost!\")\n",
    "                done = True\n",
    "            else:\n",
    "                print_word(word,guessed_letters)\n",
    "                letter = pick_a_letter()\n",
    "        want_to_play = input(\"play again? (y or n):\")\n",
    "        \n",
    "play_hangman()"
   ]
  },
  {
   "cell_type": "code",
   "execution_count": null,
   "metadata": {},
   "outputs": [],
   "source": []
  },
  {
   "cell_type": "code",
   "execution_count": null,
   "metadata": {},
   "outputs": [],
   "source": []
  },
  {
   "cell_type": "code",
   "execution_count": null,
   "metadata": {},
   "outputs": [],
   "source": []
  },
  {
   "cell_type": "code",
   "execution_count": null,
   "metadata": {},
   "outputs": [],
   "source": []
  },
  {
   "cell_type": "code",
   "execution_count": null,
   "metadata": {},
   "outputs": [],
   "source": []
  }
 ],
 "metadata": {
  "kernelspec": {
   "display_name": "Python 3",
   "language": "python",
   "name": "python3"
  },
  "language_info": {
   "codemirror_mode": {
    "name": "ipython",
    "version": 3
   },
   "file_extension": ".py",
   "mimetype": "text/x-python",
   "name": "python",
   "nbconvert_exporter": "python",
   "pygments_lexer": "ipython3",
   "version": "3.7.4"
  }
 },
 "nbformat": 4,
 "nbformat_minor": 4
}
